{
 "cells": [
  {
   "cell_type": "code",
   "execution_count": 1,
   "id": "b5d724bb",
   "metadata": {},
   "outputs": [],
   "source": [
    "import pandas as pd\n",
    "\n",
    "import os\n",
    "import numpy as np\n",
    "import matplotlib.pylab as plt\n",
    "# import ray\n",
    "# ray.init()\n",
    "# import dask\n",
    "# os.environ[\"MODIN_ENGINE\"] = \"ray\"\n",
    "# import modin.pandas as pd"
   ]
  },
  {
   "cell_type": "code",
   "execution_count": 2,
   "id": "1c2d8845",
   "metadata": {},
   "outputs": [],
   "source": [
    "# # largestfile = pd.read_csv(os.scandir('channel1csvs'))\n",
    "# entriesscan = os.scandir('channel1csvs')\n",
    "# for i in range(505):\n",
    "#     csv = entriesscan.__next__()\n",
    "#     if csv.name == '20220304.csv':\n",
    "#         break\n",
    "# csv = pd.read_csv(csv)      #I'm thinking that I need to standardize the size of the csvs, and I use the largest to start\n",
    "# meters = []\n",
    "# timestamps = []\n",
    "# for row in range(len(csv)):\n",
    "#     if not (csv.loc[row][1] in meters):\n",
    "#         meters.append(csv.loc[row][1])\n",
    "#     if not (csv.loc[row][2][11:16] in timestamps):\n",
    "#         timestamps.append(csv.loc[row][2][11:16])\n",
    "# currenttimestamp = csv.loc[1][2][11:16]\n",
    "# currenttimestamploc = timestamps.index(currenttimestamp)\n",
    "# for row in range(len(csv) - 1):\n",
    "#     currenttimestamploc = (currenttimestamploc + row) % len(timestamps)\n",
    "#     currenttimestamp = timestamps[currenttimestamploc]\n",
    "#     if not csv.loc[row+1][2][11:16]  == currenttimestamp:\n",
    "#         print(\"error!, loc: \" + str(row))\n",
    "#         break\n",
    "# print(meters)\n",
    "# print(\"length \" + str(len(meters)))\n",
    "# print(timestamps)\n",
    "# print(\"num of rows \" + str(len(csv)))\n",
    "# # print(timestamps.index('00:30'))\n",
    "# # print(pd.read_csv(os.walk('channel1csvs\\20220304.csv')))"
   ]
  },
  {
   "cell_type": "code",
   "execution_count": 3,
   "id": "9c1ecc30",
   "metadata": {},
   "outputs": [
    {
     "name": "stdout",
     "output_type": "stream",
     "text": [
      "505\n",
      "       0                 1                    2      3        date      time\n",
      "0  11717  Softball Concess  2021-07-01 00:15:00  0.128  2021-07-01  00:15:00\n",
      "1  11717  Softball Concess  2021-07-01 00:30:00  0.049  2021-07-01  00:30:00\n",
      "2  11717  Softball Concess  2021-07-01 00:45:00  0.139  2021-07-01  00:45:00\n",
      "3  11717  Softball Concess  2021-07-01 01:00:00  0.067  2021-07-01  01:00:00\n",
      "4  11717  Softball Concess  2021-07-01 01:15:00  0.110  2021-07-01  01:15:00\n",
      "0          int16\n",
      "1       category\n",
      "2         object\n",
      "3        float64\n",
      "date      object\n",
      "time      object\n",
      "dtype: object\n",
      "496\n"
     ]
    }
   ],
   "source": [
    "pandasarray = []\n",
    "entrieslist = os.listdir('channel1csvs')\n",
    "print(len(entrieslist))\n",
    "entriesscan = os.scandir('channel1csvs')\n",
    "for i in range(len(entrieslist)):\n",
    "    csv = entriesscan.__next__()\n",
    "    try:\n",
    "        currentcsv = pd.read_csv(csv, header=None, usecols = [0, 1, 2, 6])\n",
    "        currentcsv[0] = currentcsv[0].astype(np.int16)\n",
    "        currentcsv[1] = currentcsv[1].astype(\"category\")\n",
    "        currentcsv[6] = currentcsv[6].astype(np.float64)\n",
    "#         currentcsv[\"key\"] = (str(currentcsv[0]) + str(currentcsv[2][11:16]))\n",
    "#         currentcsv[\"key\"] = currentcsv[\"key\"].astype(np.int32)\n",
    "#         currentcsv.set_index(\"key\")\n",
    "        currentcsv.columns = [0, 1, 2, 3]\n",
    "        currentcsv[['date', 'time']] = currentcsv[2].str.split(' ', expand = True)\n",
    "#         currentcsv['key'] = (str(currentcsv[0]) + str(currentcsv['time']))\n",
    "#         currentcsv.set_index('key')\n",
    "#         currentcsv[4] = str(currentcsv[0]+currentcsv[2][11:16])\n",
    "    except:\n",
    "        continue\n",
    "    pandasarray.append(currentcsv)\n",
    "print(pandasarray[249].head())\n",
    "print(pandasarray[249].dtypes)\n",
    "print(len(pandasarray))\n",
    "# print(len(pandasarray[249]))"
   ]
  },
  {
   "cell_type": "code",
   "execution_count": 4,
   "id": "d3267f99",
   "metadata": {},
   "outputs": [
    {
     "name": "stdout",
     "output_type": "stream",
     "text": [
      "         0                                   1                    2      3  \\\n",
      "0    11717                    Softball Concess  2021-05-27 00:15:00  0.136   \n",
      "1    11717                    Softball Concess  2021-05-27 00:30:00  0.095   \n",
      "2    11717                    Softball Concess  2021-05-27 00:45:00  0.080   \n",
      "3    11717                    Softball Concess  2021-05-27 01:00:00  0.135   \n",
      "4    11719                    Softball MX Shop  2021-05-27 00:15:00  0.210   \n",
      "..     ...                                 ...                  ...    ...   \n",
      "770   1788  Old Athletics Ticket Office - AT&T  2021-05-27 01:00:00  0.070   \n",
      "771   1789                  Meek Hall Addition  2021-05-27 00:15:00  0.006   \n",
      "772   1789                  Meek Hall Addition  2021-05-27 00:30:00  0.006   \n",
      "773   1789                  Meek Hall Addition  2021-05-27 00:45:00  0.005   \n",
      "774   1789                  Meek Hall Addition  2021-05-27 01:00:00  0.006   \n",
      "\n",
      "           date      time  \n",
      "0    2021-05-27  00:15:00  \n",
      "1    2021-05-27  00:30:00  \n",
      "2    2021-05-27  00:45:00  \n",
      "3    2021-05-27  01:00:00  \n",
      "4    2021-05-27  00:15:00  \n",
      "..          ...       ...  \n",
      "770  2021-05-27  01:00:00  \n",
      "771  2021-05-27  00:15:00  \n",
      "772  2021-05-27  00:30:00  \n",
      "773  2021-05-27  00:45:00  \n",
      "774  2021-05-27  01:00:00  \n",
      "\n",
      "[775 rows x 6 columns]\n"
     ]
    }
   ],
   "source": [
    "nodes = {}\n",
    "for day in range(len(pandasarray)):\n",
    "    length = len(pandasarray[day])\n",
    "    if length not in nodes:\n",
    "        nodes.update({length : 1})\n",
    "    else:\n",
    "        nodes.update({length : nodes.get(length) + 1})\n",
    "    if length == 775:\n",
    "        print(pandasarray[day])\n",
    "# print(nodes)\n",
    "# print(sorted(nodes))"
   ]
  },
  {
   "cell_type": "code",
   "execution_count": 5,
   "id": "e7e00d4d",
   "metadata": {},
   "outputs": [
    {
     "name": "stdout",
     "output_type": "stream",
     "text": [
      "           0                   1                    2      3        date  \\\n",
      "0      11717    Softball Concess  2020-10-20 00:15:00  0.047  2020-10-20   \n",
      "1      11717    Softball Concess  2020-10-20 00:30:00  0.048  2020-10-20   \n",
      "2      11717    Softball Concess  2020-10-20 00:45:00  0.136  2020-10-20   \n",
      "3      11717    Softball Concess  2020-10-20 01:00:00  0.179  2020-10-20   \n",
      "4      11717    Softball Concess  2020-10-20 01:15:00  0.047  2020-10-20   \n",
      "...      ...                 ...                  ...    ...         ...   \n",
      "18396   1789  Meek Hall Addition  2020-10-20 23:00:00  0.628  2020-10-20   \n",
      "18397   1789  Meek Hall Addition  2020-10-20 23:15:00  0.628  2020-10-20   \n",
      "18398   1789  Meek Hall Addition  2020-10-20 23:30:00  0.627  2020-10-20   \n",
      "18399   1789  Meek Hall Addition  2020-10-20 23:45:00  0.628  2020-10-20   \n",
      "18400   1789  Meek Hall Addition  2020-10-21 00:00:00  0.630  2020-10-21   \n",
      "\n",
      "           time  \n",
      "0      00:15:00  \n",
      "1      00:30:00  \n",
      "2      00:45:00  \n",
      "3      01:00:00  \n",
      "4      01:15:00  \n",
      "...         ...  \n",
      "18396  23:00:00  \n",
      "18397  23:15:00  \n",
      "18398  23:30:00  \n",
      "18399  23:45:00  \n",
      "18400  00:00:00  \n",
      "\n",
      "[18401 rows x 6 columns]\n",
      "             0                         1                    2       3  \\\n",
      "0        11717          Softball Concess  2020-10-20 00:15:00   0.047   \n",
      "1        11717          Softball Concess  2020-10-20 00:30:00   0.048   \n",
      "2        11717          Softball Concess  2020-10-20 00:45:00   0.136   \n",
      "3        11717          Softball Concess  2020-10-20 01:00:00   0.179   \n",
      "4        11717          Softball Concess  2020-10-20 01:15:00   0.047   \n",
      "...        ...                       ...                  ...     ...   \n",
      "9062861  21088  V.H. Stadium - West Side  2022-03-08 23:00:00  44.800   \n",
      "9062862  21088  V.H. Stadium - West Side  2022-03-08 23:15:00  44.800   \n",
      "9062863  21088  V.H. Stadium - West Side  2022-03-08 23:30:00  49.600   \n",
      "9062864  21088  V.H. Stadium - West Side  2022-03-08 23:45:00  48.000   \n",
      "9062865  21088  V.H. Stadium - West Side  2022-03-09 00:00:00  44.800   \n",
      "\n",
      "               date      time  \n",
      "0        2020-10-20  00:15:00  \n",
      "1        2020-10-20  00:30:00  \n",
      "2        2020-10-20  00:45:00  \n",
      "3        2020-10-20  01:00:00  \n",
      "4        2020-10-20  01:15:00  \n",
      "...             ...       ...  \n",
      "9062861  2022-03-08  23:00:00  \n",
      "9062862  2022-03-08  23:15:00  \n",
      "9062863  2022-03-08  23:30:00  \n",
      "9062864  2022-03-08  23:45:00  \n",
      "9062865  2022-03-09  00:00:00  \n",
      "\n",
      "[9062866 rows x 6 columns]\n"
     ]
    }
   ],
   "source": [
    "# merged = pandasarray[0].join(pandasarray[1][[2,3]], how = \"outer\", on=('key'), lsuffix = '_0', rsuffix = '_1')\n",
    "# for i in range(2,496):\n",
    "#     merged = merged.join(pandasarray[i][[2,3]], how = \"outer\", on=('key'),lsuffix = ('_'+str(i-1)), rsuffix = ('_'+str(i)))\n",
    "merged = pd.concat(pandasarray, ignore_index = True)\n",
    "print(pandasarray[0])\n",
    "print(merged)\n",
    "# merged = merged.join(pandasarray[2], how = \"inner\", on=(0), suffixes=('', '_2'))\n",
    "\n",
    "# print(merged)"
   ]
  },
  {
   "cell_type": "code",
   "execution_count": 6,
   "id": "58a40cdb",
   "metadata": {},
   "outputs": [
    {
     "name": "stdout",
     "output_type": "stream",
     "text": [
      "            0                   1                    2      3        date  \\\n",
      "0       11717    Softball Concess  2020-10-20 00:15:00  0.047  2020-10-20   \n",
      "1       11717    Softball Concess  2020-10-20 00:30:00  0.048  2020-10-20   \n",
      "2       11717    Softball Concess  2020-10-20 00:45:00  0.136  2020-10-20   \n",
      "3       11717    Softball Concess  2020-10-20 01:00:00  0.179  2020-10-20   \n",
      "4       11717    Softball Concess  2020-10-20 01:15:00  0.047  2020-10-20   \n",
      "...       ...                 ...                  ...    ...         ...   \n",
      "184423   1789  Meek Hall Addition  2020-10-29 22:45:00  0.005  2020-10-29   \n",
      "184424   1789  Meek Hall Addition  2020-10-29 23:00:00  0.006  2020-10-29   \n",
      "184425   1789  Meek Hall Addition  2020-10-29 23:15:00  0.005  2020-10-29   \n",
      "184426   1789  Meek Hall Addition  2020-10-29 23:30:00  0.006  2020-10-29   \n",
      "184427   1789  Meek Hall Addition  2020-10-29 23:45:00  0.006  2020-10-29   \n",
      "\n",
      "            time  \n",
      "0       00:15:00  \n",
      "1       00:30:00  \n",
      "2       00:45:00  \n",
      "3       01:00:00  \n",
      "4       01:15:00  \n",
      "...          ...  \n",
      "184423  22:45:00  \n",
      "184424  23:00:00  \n",
      "184425  23:15:00  \n",
      "184426  23:30:00  \n",
      "184427  23:45:00  \n",
      "\n",
      "[184236 rows x 6 columns]\n"
     ]
    }
   ],
   "source": [
    "print(merged.loc[(merged['date'] >= '2020-10-20') & (merged['date'] <= '2020-10-29')])"
   ]
  },
  {
   "cell_type": "code",
   "execution_count": 7,
   "id": "23ef67a5",
   "metadata": {},
   "outputs": [
    {
     "name": "stdout",
     "output_type": "stream",
     "text": [
      "             0                 1                    2      3        date  \\\n",
      "0        11717  Softball Concess  2020-10-20 00:15:00  0.047  2020-10-20   \n",
      "1        11717  Softball Concess  2020-10-20 00:30:00  0.048  2020-10-20   \n",
      "2        11717  Softball Concess  2020-10-20 00:45:00  0.136  2020-10-20   \n",
      "3        11717  Softball Concess  2020-10-20 01:00:00  0.179  2020-10-20   \n",
      "4        11717  Softball Concess  2020-10-20 01:15:00  0.047  2020-10-20   \n",
      "...        ...               ...                  ...    ...         ...   \n",
      "9043527  11717  Softball Concess  2022-03-08 23:00:00  0.194  2022-03-08   \n",
      "9043528  11717  Softball Concess  2022-03-08 23:15:00  0.119  2022-03-08   \n",
      "9043529  11717  Softball Concess  2022-03-08 23:30:00  0.120  2022-03-08   \n",
      "9043530  11717  Softball Concess  2022-03-08 23:45:00  0.109  2022-03-08   \n",
      "9043531  11717  Softball Concess  2022-03-09 00:00:00  0.211  2022-03-09   \n",
      "\n",
      "             time  \n",
      "0        00:15:00  \n",
      "1        00:30:00  \n",
      "2        00:45:00  \n",
      "3        01:00:00  \n",
      "4        01:15:00  \n",
      "...           ...  \n",
      "9043527  23:00:00  \n",
      "9043528  23:15:00  \n",
      "9043529  23:30:00  \n",
      "9043530  23:45:00  \n",
      "9043531  00:00:00  \n",
      "\n",
      "[46708 rows x 6 columns]\n"
     ]
    }
   ],
   "source": [
    "print(merged.loc[(merged[1] == 'Softball Concess')])"
   ]
  },
  {
   "cell_type": "code",
   "execution_count": 8,
   "id": "15dc3327",
   "metadata": {},
   "outputs": [
    {
     "name": "stdout",
     "output_type": "stream",
     "text": [
      "           0                   1                    2      3        date  \\\n",
      "0      11717    Softball Concess  2020-10-20 00:15:00  0.047  2020-10-20   \n",
      "1      11717    Softball Concess  2020-10-20 00:30:00  0.048  2020-10-20   \n",
      "2      11717    Softball Concess  2020-10-20 00:45:00  0.136  2020-10-20   \n",
      "3      11717    Softball Concess  2020-10-20 01:00:00  0.179  2020-10-20   \n",
      "4      11717    Softball Concess  2020-10-20 01:15:00  0.047  2020-10-20   \n",
      "...      ...                 ...                  ...    ...         ...   \n",
      "18395   1789  Meek Hall Addition  2020-10-20 22:45:00  0.629  2020-10-20   \n",
      "18396   1789  Meek Hall Addition  2020-10-20 23:00:00  0.628  2020-10-20   \n",
      "18397   1789  Meek Hall Addition  2020-10-20 23:15:00  0.628  2020-10-20   \n",
      "18398   1789  Meek Hall Addition  2020-10-20 23:30:00  0.627  2020-10-20   \n",
      "18399   1789  Meek Hall Addition  2020-10-20 23:45:00  0.628  2020-10-20   \n",
      "\n",
      "           time  \n",
      "0      00:15:00  \n",
      "1      00:30:00  \n",
      "2      00:45:00  \n",
      "3      01:00:00  \n",
      "4      01:15:00  \n",
      "...         ...  \n",
      "18395  22:45:00  \n",
      "18396  23:00:00  \n",
      "18397  23:15:00  \n",
      "18398  23:30:00  \n",
      "18399  23:45:00  \n",
      "\n",
      "[190 rows x 6 columns]\n"
     ]
    }
   ],
   "source": [
    "allowedbuilds = ['Softball Concess', \"Meek Hall Addition\"]\n",
    "print(merged.loc[(merged[1].isin(allowedbuilds))].loc[(merged['date'] == '2020-10-20')]) #I can use a list and .isin()"
   ]
  },
  {
   "cell_type": "code",
   "execution_count": 9,
   "id": "e4e22f62",
   "metadata": {},
   "outputs": [
    {
     "name": "stdout",
     "output_type": "stream",
     "text": [
      "['00:15:00', '00:30:00', '00:45:00', '01:00:00', '01:15:00', '01:30:00', '01:45:00', '02:00:00', '02:15:00', '02:30:00', '02:45:00', '03:00:00', '03:15:00', '03:30:00', '03:45:00', '04:00:00', '04:15:00', '04:30:00', '04:45:00', '05:00:00', '05:15:00', '05:30:00', '05:45:00', '06:00:00', '06:15:00', '06:30:00', '06:45:00', '07:00:00', '07:15:00', '07:30:00', '07:45:00', '08:00:00', '08:15:00', '08:30:00', '08:45:00', '09:00:00', '09:15:00', '09:30:00', '09:45:00', '10:00:00', '10:15:00', '10:30:00', '10:45:00', '11:00:00', '11:15:00', '11:30:00', '11:45:00', '12:00:00', '12:15:00', '12:30:00', '12:45:00', '13:00:00', '13:15:00', '13:30:00', '13:45:00', '14:00:00', '14:15:00', '14:30:00', '14:45:00', '15:00:00', '15:15:00', '15:30:00', '15:45:00', '16:00:00', '16:15:00', '16:30:00', '16:45:00', '17:00:00', '17:15:00', '17:30:00', '17:45:00', '18:00:00', '18:15:00', '18:30:00', '18:45:00', '19:00:00', '19:15:00', '19:30:00', '19:45:00', '20:00:00', '20:15:00', '20:30:00', '20:45:00', '21:00:00', '21:15:00', '21:30:00', '21:45:00', '22:00:00', '22:15:00', '22:30:00', '22:45:00', '23:00:00', '23:15:00', '23:30:00', '23:45:00', '00:00:00']\n",
      "[1320111.309, 1316948.4470000002, 1313630.2699999998, 1316221.1090000002, 1325637.111, 1323097.1350000002, 1320144.738, 1311349.9590000003, 1309711.945, 1306792.5739999998, 1305738.0960000001, 1308786.1889999998, 1314967.209, 1318709.101, 1323053.398, 1325183.374, 1329793.66, 1330699.7939999998, 1329302.2170000002, 1327981.2639999997, 1331697.621, 1333324.0259999998, 1335041.5210000004, 1340435.6920000003, 1351140.2110000001, 1351791.603, 1350650.1539999999, 1349900.5599999998, 1360831.815, 1369841.9850000003, 1382917.911, 1396758.913, 1414746.926, 1429772.974, 1444296.205, 1457478.232, 1475706.614, 1487359.878, 1497072.8569999998, 1507552.003, 1518369.8150000002, 1527910.6650000003, 1535779.4400000002, 1545956.6709999999, 1552225.8389999997, 1555476.435, 1557123.6970000002, 1561563.63, 1560921.963, 1563499.3369999998, 1566900.299, 1571268.7799999998, 1575213.5130000003, 1576871.323, 1578204.4739999997, 1582064.4149999998, 1581175.1009999998, 1579361.843, 1578523.7929999996, 1576376.8260000001, 1575807.273, 1574722.7679999997, 1573986.8370000003, 1571950.021, 1566977.9269999997, 1561757.335, 1553833.603, 1548442.729, 1516998.5980000002, 1508359.111, 1502288.1049999997, 1495891.0210000004, 1484888.6199999999, 1476883.015, 1469593.968, 1462227.711, 1451731.2089999998, 1445016.276, 1439733.46, 1434777.5299999998, 1427173.1909999999, 1422711.1630000004, 1416300.024, 1408123.673, 1399736.2909999997, 1392877.306, 1386547.836, 1379913.357, 1363495.015, 1356703.5099999995, 1349831.3069999998, 1343550.4959999998, 1336991.7929999998, 1331266.301, 1325207.0529999998, 1318344.789]\n"
     ]
    }
   ],
   "source": [
    "times = []\n",
    "for row in range(1000):\n",
    "    if merged.loc[row]['time'] not in times:\n",
    "        times.append(merged.loc[row]['time'])\n",
    "    \n",
    "print(times)\n",
    "timekwh = []\n",
    "for time in times:\n",
    "    timekwh.append(merged.loc[(merged['time'] == time)][3].sum())\n",
    "print(timekwh)\n",
    "# sum1500 = merged.loc[(merged['time'] == '00:15:00')][3].sum()\n",
    "# print(sum1500)\n",
    "# print(merged.loc[(merged['time'] == '00:15:00')][3])\n",
    "# merged.plot(x = 'time', y = 3)"
   ]
  },
  {
   "cell_type": "code",
   "execution_count": 12,
   "id": "431687bc",
   "metadata": {},
   "outputs": [
    {
     "data": {
      "image/png": "[encoded data removed]",
      "text/plain": [
       "<Figure size 432x288 with 1 Axes>"
      ]
     },
     "metadata": {
      "needs_background": "light"
     },
     "output_type": "display_data"
    }
   ],
   "source": [
    "# res = {test_keys[i]: test_values[i] for i in range(len(test_keys))}\n",
    "timekwhdict = {times[i] : timekwh[i] for i in range(len(times))}\n",
    "# print(timekwhdict)\n",
    "lists = sorted(timekwhdict.items())\n",
    "x, y = zip(*lists)\n",
    "plt.plot(x, y)\n",
    "plt.xticks(np.arange(0, 96, 24))\n",
    "plt.title(\"Average power use over a day in kWH\")\n",
    "plt.show()"
   ]
  },
  {
   "cell_type": "code",
   "execution_count": 13,
   "id": "1a3ec664",
   "metadata": {},
   "outputs": [
    {
     "name": "stdout",
     "output_type": "stream",
     "text": [
      "date\n",
      "2020-10-20    312455.734\n",
      "2020-10-21    318699.732\n",
      "2020-10-22    331368.076\n",
      "2020-10-23    321779.810\n",
      "2020-10-24    256280.425\n",
      "                 ...    \n",
      "2022-03-05    299865.260\n",
      "2022-03-06    319372.259\n",
      "2022-03-07    308891.862\n",
      "2022-03-08    287578.088\n",
      "2022-03-09      2693.799\n",
      "Name: 3, Length: 499, dtype: float64\n"
     ]
    },
    {
     "data": {
      "image/png": "[encoded data removed]",
      "text/plain": [
       "<Figure size 432x288 with 1 Axes>"
      ]
     },
     "metadata": {
      "needs_background": "light"
     },
     "output_type": "display_data"
    }
   ],
   "source": [
    "sums = merged.groupby('date')[3].sum()\n",
    "print(sums)\n",
    "# ax = plt.Axes(plt.Figure, plt.Figure, label = \"Total power use in a day for every day\")\n",
    "datePlot = sums.plot(x = 'date', y = 3, title = \"Total power use in a day for every day\")\n",
    "# merged.loc[(merged[1] == 'Softball Concess')].loc[(merged['date'] <= '2020-12-00')].plot(x = 'date', y = 3, kind = 'scatter')"
   ]
  },
  {
   "cell_type": "code",
   "execution_count": 47,
   "id": "2f0b23da",
   "metadata": {},
   "outputs": [
    {
     "name": "stdout",
     "output_type": "stream",
     "text": [
      "{'Softball Concess': date\n",
      "2020-10-20     9.794\n",
      "2020-10-21    10.283\n",
      "2020-10-22    10.001\n",
      "2020-10-23    10.498\n",
      "2020-10-24     8.274\n",
      "               ...  \n",
      "2022-03-05    54.168\n",
      "2022-03-06    33.217\n",
      "2022-03-07    16.257\n",
      "2022-03-08    14.062\n",
      "2022-03-09     0.211\n",
      "Name: 3, Length: 499, dtype: float64, 'Meek Hall Addition': date\n",
      "2020-10-20    15.056\n",
      "2020-10-21    35.429\n",
      "2020-10-22    13.197\n",
      "2020-10-23     1.373\n",
      "2020-10-24     0.542\n",
      "               ...  \n",
      "2022-03-05     0.530\n",
      "2022-03-06     0.528\n",
      "2022-03-07     0.760\n",
      "2022-03-08     9.602\n",
      "2022-03-09     0.006\n",
      "Name: 3, Length: 497, dtype: float64}\n"
     ]
    },
    {
     "data": {
      "text/plain": [
       "<matplotlib.legend.Legend at 0x1f506a24a60>"
      ]
     },
     "execution_count": 47,
     "metadata": {},
     "output_type": "execute_result"
    },
    {
     "data": {
      "image/png": "[encoded data removed]",
      "text/plain": [
       "<Figure size 432x288 with 1 Axes>"
      ]
     },
     "metadata": {
      "needs_background": "light"
     },
     "output_type": "display_data"
    }
   ],
   "source": [
    "fig, ax = plt.subplots()\n",
    "allowedbuilds = ['Softball Concess', \"Meek Hall Addition\"]\n",
    "sums = {}\n",
    "for building in allowedbuilds:\n",
    "    singsum = merged.loc[(merged[1] == building)].groupby('date')[3].sum()\n",
    "    sums.update({building : singsum})\n",
    "# singsum = merged.groupby('date')[3].sum()\n",
    "print(sums)\n",
    "# for key, grp in merged.loc[(merged[1].isin(allowedbuilds))].groupby([1]):\n",
    "#     ax = grp.plot(ax=ax, kind = 'line', x = 'date', y = 3, label = key)\n",
    "#     print(grp)\n",
    "for key in sums:\n",
    "    buildingPlot = sums[key].plot(ax=ax, kind = 'line', x = 'date', y = 3, label = key, title = \"Total daily energy use of Meek Hall vs Softball Concess\")\n",
    "buildingPlot.legend(loc='upper right')\n"
   ]
  },
  {
   "cell_type": "code",
   "execution_count": null,
   "id": "84225c5d",
   "metadata": {},
   "outputs": [],
   "source": []
  }
 ],
 "metadata": {
  "kernelspec": {
   "display_name": "Python 3 (ipykernel)",
   "language": "python",
   "name": "python3"
  },
  "language_info": {
   "codemirror_mode": {
    "name": "ipython",
    "version": 3
   },
   "file_extension": ".py",
   "mimetype": "text/x-python",
   "name": "python",
   "nbconvert_exporter": "python",
   "pygments_lexer": "ipython3",
   "version": "3.8.5"
  }
 },
 "nbformat": 4,
 "nbformat_minor": 5
}
